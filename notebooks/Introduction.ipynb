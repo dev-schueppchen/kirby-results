{
 "cells": [
  {
   "cell_type": "markdown",
   "metadata": {},
   "source": [
    "<center>\n",
    "    <img width=\"25%\" src=\"https://raw.githubusercontent.com/dev-schueppchen/Kirby/master/.media/kirby.png\" />\n",
    "    <h1>&nbsp;&nbsp;&nbsp;&nbsp;&nbsp;&nbsp;&nbsp;&nbsp;&nbsp;&nbsp;~ Kirby Data Analysis ~</h1>\n",
    "</center>\n",
    "\n",
    "<br><br><br>\n",
    "\n",
    "## Introduction\n",
    "\n",
    "In April of 2019, I have created a video which is called `Discord \"Big\" Data`. For this video, I created a Discord Bot with the code name `Kirby` which is able to collect sets of data like every time when a message was sent, a user joined or left the guild, changed their status and much more. All the data was collected, anonymized and then saved to a MongoDB database.\n",
    "\n",
    "Here, you can find the repository of `Kirby`:  \n",
    "https://github.com/dev-schueppchen/Kirby\n",
    "\n",
    "This bot was then set up on my *(mostly german)* [development Discord guild](https://dc.zekro.de) and collected data, until now.\n",
    "\n",
    "And yes, the bot is still collecting data each day. This notebook directly connects to the kirby database via a publicly avaliable read-only account.  \n",
    "Here you can see an example query which shows the current count of documents for each collection:"
   ]
  },
  {
   "cell_type": "code",
   "execution_count": 1,
   "metadata": {},
   "outputs": [
    {
     "data": {
      "text/html": [
       "<div>\n",
       "<style scoped>\n",
       "    .dataframe tbody tr th:only-of-type {\n",
       "        vertical-align: middle;\n",
       "    }\n",
       "\n",
       "    .dataframe tbody tr th {\n",
       "        vertical-align: top;\n",
       "    }\n",
       "\n",
       "    .dataframe thead th {\n",
       "        text-align: right;\n",
       "    }\n",
       "</style>\n",
       "<table border=\"1\" class=\"dataframe\">\n",
       "  <thead>\n",
       "    <tr style=\"text-align: right;\">\n",
       "      <th></th>\n",
       "      <th>Document Count</th>\n",
       "    </tr>\n",
       "  </thead>\n",
       "  <tbody>\n",
       "    <tr>\n",
       "      <th>summ</th>\n",
       "      <td>7053794</td>\n",
       "    </tr>\n",
       "    <tr>\n",
       "      <th>statuschanges</th>\n",
       "      <td>3265027</td>\n",
       "    </tr>\n",
       "    <tr>\n",
       "      <th>status</th>\n",
       "      <td>1725408</td>\n",
       "    </tr>\n",
       "    <tr>\n",
       "      <th>statusroles</th>\n",
       "      <td>1725091</td>\n",
       "    </tr>\n",
       "    <tr>\n",
       "      <th>messages</th>\n",
       "      <td>320979</td>\n",
       "    </tr>\n",
       "    <tr>\n",
       "      <th>reactions</th>\n",
       "      <td>13339</td>\n",
       "    </tr>\n",
       "    <tr>\n",
       "      <th>memberchange</th>\n",
       "      <td>2583</td>\n",
       "    </tr>\n",
       "    <tr>\n",
       "      <th>voicechannels</th>\n",
       "      <td>1367</td>\n",
       "    </tr>\n",
       "  </tbody>\n",
       "</table>\n",
       "</div>"
      ],
      "text/plain": [
       "               Document Count\n",
       "summ                  7053794\n",
       "statuschanges         3265027\n",
       "status                1725408\n",
       "statusroles           1725091\n",
       "messages               320979\n",
       "reactions               13339\n",
       "memberchange             2583\n",
       "voicechannels            1367"
      ]
     },
     "execution_count": 1,
     "metadata": {},
     "output_type": "execute_result"
    }
   ],
   "source": [
    "%run -i ../scripts/setup-mongo.py\n",
    "\n",
    "import pandas\n",
    "\n",
    "data = {}\n",
    "total_count = 0\n",
    "for c in mongo_db.list_collection_names():\n",
    "    count = mongo_db[c].count_documents({})\n",
    "    data[c] = count\n",
    "    total_count += count\n",
    "    \n",
    "data['summ'] = total_count\n",
    "    \n",
    "df = pandas.DataFrame({ 'Document Count': data })\n",
    "df.sort_values(by='Document Count', inplace=True, ascending=False)\n",
    "df"
   ]
  },
  {
   "cell_type": "markdown",
   "metadata": {},
   "source": [
    "## Accessing the Database\n",
    "\n",
    "To access the data, you can use a publicly available account with the following credentials to connect to the database:\n",
    "\n",
    "| | |\n",
    "|---|---|\n",
    "| Server | `zekro.de` |\n",
    "| Port | `27071` |\n",
    "| Database | `kirby` |\n",
    "| Authorization Database | `kirby` |\n",
    "| Username | `kirby` |\n",
    "| Password | `D3v5chupp3n` |\n",
    "\n",
    "You can use something like [MongoDB Compass](https://www.mongodb.com/products/compass) to get an overview about the collection and data structure.\n"
   ]
  },
  {
   "cell_type": "markdown",
   "metadata": {},
   "source": [
    "## Getting Discord Metadata\n",
    "\n",
    "As you might notice, all objects like channels or roles are stored as Discord snowflake IDs. So you need to recover the actual names of the objects via the Discord API.\n",
    "\n",
    "For this, you can use the script `scripts/get-discord-data.py` which generates a JSON file at `data/idtable.json` which contaisns all IDs with their clear names.\n",
    "\n",
    "The problem is, to execute this script you need to pass an API token as `DISCORD_TOKEN` environment variable of a bot application which is connected with the guild. So you will not be able to obtain the data if you don't have a bot on the guild.\n",
    "\n",
    "But I try to keep the JSON file as up-to-date as possible. ;)"
   ]
  },
  {
   "cell_type": "markdown",
   "metadata": {},
   "source": [
    "## Video\n",
    "\n",
    "Here you can find the video I've created.\n",
    "\n",
    "*Attention, the video is fully in german!*"
   ]
  },
  {
   "cell_type": "code",
   "execution_count": 2,
   "metadata": {
    "scrolled": false
   },
   "outputs": [
    {
     "data": {
      "text/html": [
       "<iframe width=\"900\" height=\"506\" src=\"https://www.youtube.com/embed/mvTeEEeb0jM\" frameborder=\"0\" allow=\"accelerometer; autoplay; encrypted-media; gyroscope; picture-in-picture\" allowfullscreen></iframe>\n"
      ],
      "text/plain": [
       "<IPython.core.display.HTML object>"
      ]
     },
     "metadata": {},
     "output_type": "display_data"
    }
   ],
   "source": [
    "%%html\n",
    "<iframe width=\"900\" height=\"506\" src=\"https://www.youtube.com/embed/mvTeEEeb0jM\" frameborder=\"0\" allow=\"accelerometer; autoplay; encrypted-media; gyroscope; picture-in-picture\" allowfullscreen></iframe>"
   ]
  }
 ],
 "metadata": {
  "kernelspec": {
   "display_name": "Python 3",
   "language": "python",
   "name": "python3"
  },
  "language_info": {
   "codemirror_mode": {
    "name": "ipython",
    "version": 3
   },
   "file_extension": ".py",
   "mimetype": "text/x-python",
   "name": "python",
   "nbconvert_exporter": "python",
   "pygments_lexer": "ipython3",
   "version": "3.8.3"
  }
 },
 "nbformat": 4,
 "nbformat_minor": 4
}
